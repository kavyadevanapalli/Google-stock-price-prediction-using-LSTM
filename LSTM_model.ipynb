{
 "cells": [
  {
   "cell_type": "markdown",
   "metadata": {},
   "source": [
    "# stock price trends prediction using LSTM"
   ]
  },
  {
   "cell_type": "code",
   "execution_count": 1,
   "metadata": {},
   "outputs": [],
   "source": [
    "import pandas as pd\n",
    "import numpy as np\n",
    "import matplotlib.pyplot as plt"
   ]
  },
  {
   "cell_type": "code",
   "execution_count": 2,
   "metadata": {},
   "outputs": [],
   "source": [
    "train = pd.read_csv(\"1_dec_2014 to 30_nov_2019.csv\")\n"
   ]
  },
  {
   "cell_type": "code",
   "execution_count": 3,
   "metadata": {},
   "outputs": [
    {
     "data": {
      "text/plain": [
       "(1259, 7)"
      ]
     },
     "execution_count": 3,
     "metadata": {},
     "output_type": "execute_result"
    }
   ],
   "source": [
    "train.shape"
   ]
  },
  {
   "cell_type": "code",
   "execution_count": 4,
   "metadata": {},
   "outputs": [
    {
     "data": {
      "text/plain": [
       "(20, 7)"
      ]
     },
     "execution_count": 4,
     "metadata": {},
     "output_type": "execute_result"
    }
   ],
   "source": [
    "test = pd.read_csv(\"1_dec_2019 to 31_dec_2019.csv\")\n",
    "test.shape"
   ]
  },
  {
   "cell_type": "code",
   "execution_count": 5,
   "metadata": {},
   "outputs": [],
   "source": [
    "train_data = train.iloc[:,1].values"
   ]
  },
  {
   "cell_type": "code",
   "execution_count": 6,
   "metadata": {},
   "outputs": [],
   "source": [
    "train_data = train_data.reshape(-1,1)"
   ]
  },
  {
   "cell_type": "code",
   "execution_count": 7,
   "metadata": {},
   "outputs": [
    {
     "data": {
      "text/plain": [
       "(1259, 1)"
      ]
     },
     "execution_count": 7,
     "metadata": {},
     "output_type": "execute_result"
    }
   ],
   "source": [
    "train_data.shape"
   ]
  },
  {
   "cell_type": "markdown",
   "metadata": {},
   "source": [
    "# Feature Scalling"
   ]
  },
  {
   "cell_type": "code",
   "execution_count": 8,
   "metadata": {},
   "outputs": [],
   "source": [
    "from sklearn.preprocessing import MinMaxScaler\n",
    "scaler = MinMaxScaler(feature_range=(0,1))\n",
    "train_scaled = scaler.fit_transform(train_data)"
   ]
  },
  {
   "cell_type": "code",
   "execution_count": 9,
   "metadata": {},
   "outputs": [
    {
     "data": {
      "text/plain": [
       "array([[0.0526017 ],\n",
       "       [0.04619439],\n",
       "       [0.04373371],\n",
       "       ...,\n",
       "       [0.97334684],\n",
       "       [0.97947375],\n",
       "       [0.97008076]])"
      ]
     },
     "execution_count": 9,
     "metadata": {},
     "output_type": "execute_result"
    }
   ],
   "source": [
    "train_scaled"
   ]
  },
  {
   "cell_type": "code",
   "execution_count": 10,
   "metadata": {},
   "outputs": [
    {
     "data": {
      "text/plain": [
       "1259"
      ]
     },
     "execution_count": 10,
     "metadata": {},
     "output_type": "execute_result"
    }
   ],
   "source": [
    "len(train_scaled)"
   ]
  },
  {
   "cell_type": "code",
   "execution_count": 11,
   "metadata": {},
   "outputs": [
    {
     "data": {
      "text/plain": [
       "(1199, 60)"
      ]
     },
     "execution_count": 11,
     "metadata": {},
     "output_type": "execute_result"
    }
   ],
   "source": [
    "x_train = []\n",
    "y_train = []\n",
    "for i in range(60,len(train_scaled)):\n",
    "    x_train.append(train_scaled[i-60:i,0])\n",
    "    y_train.append(train_scaled[i,0])\n",
    "\n",
    "np.shape(x_train)"
   ]
  },
  {
   "cell_type": "code",
   "execution_count": 12,
   "metadata": {},
   "outputs": [
    {
     "data": {
      "text/plain": [
       "(1199,)"
      ]
     },
     "execution_count": 12,
     "metadata": {},
     "output_type": "execute_result"
    }
   ],
   "source": [
    "np.shape(y_train)"
   ]
  },
  {
   "cell_type": "code",
   "execution_count": 13,
   "metadata": {},
   "outputs": [],
   "source": [
    "x_train = np.array(x_train)\n",
    "y_train = np.array(y_train)"
   ]
  },
  {
   "cell_type": "code",
   "execution_count": 14,
   "metadata": {},
   "outputs": [],
   "source": [
    "x_train = np.reshape(x_train,(x_train.shape[0], x_train.shape[1],1))"
   ]
  },
  {
   "cell_type": "code",
   "execution_count": 15,
   "metadata": {},
   "outputs": [
    {
     "data": {
      "text/plain": [
       "(1199, 60, 1)"
      ]
     },
     "execution_count": 15,
     "metadata": {},
     "output_type": "execute_result"
    }
   ],
   "source": [
    "x_train.shape"
   ]
  },
  {
   "cell_type": "markdown",
   "metadata": {},
   "source": [
    "# Building RNN network"
   ]
  },
  {
   "cell_type": "code",
   "execution_count": 16,
   "metadata": {},
   "outputs": [
    {
     "name": "stderr",
     "output_type": "stream",
     "text": [
      "Using TensorFlow backend.\n"
     ]
    }
   ],
   "source": [
    "from keras.models import Sequential\n",
    "from keras.layers import Dense\n",
    "from keras.layers import LSTM\n",
    "from keras.layers import Dropout"
   ]
  },
  {
   "cell_type": "code",
   "execution_count": 17,
   "metadata": {},
   "outputs": [],
   "source": [
    "# initializing the RNN\n",
    "regressor = Sequential()\n",
    "\n",
    "# adding the first LSTM layer\n",
    "\n",
    "regressor.add(LSTM(units = 50, return_sequences = True))\n",
    "regressor.add(Dropout(0.2))\n",
    "\n",
    "# adding 2nd LSTM layer\n",
    "\n",
    "regressor.add(LSTM(units = 50, return_sequences = True))\n",
    "regressor.add(Dropout(0.2))\n",
    "\n",
    "# adding the 3rd LSTM layer\n",
    "\n",
    "regressor.add(LSTM(units = 50, return_sequences = True))\n",
    "regressor.add(Dropout(0.2))\n",
    "\n",
    "# adding the 4th LSTM layer\n",
    "\n",
    "regressor.add(LSTM(units = 50))\n",
    "regressor.add(Dropout(rate=0.2))\n",
    "\n",
    "# final output layer\n",
    "regressor.add(Dense(units=1))\n",
    "\n",
    "regressor.compile(optimizer = \"adam\", loss = \"mean_squared_error\")"
   ]
  },
  {
   "cell_type": "code",
   "execution_count": 18,
   "metadata": {},
   "outputs": [
    {
     "name": "stdout",
     "output_type": "stream",
     "text": [
      "Epoch 1/150\n",
      "1199/1199 [==============================] - 7s 6ms/step - loss: 0.0346\n",
      "Epoch 2/150\n",
      "1199/1199 [==============================] - 6s 5ms/step - loss: 0.0062\n",
      "Epoch 3/150\n",
      "1199/1199 [==============================] - 6s 5ms/step - loss: 0.0052\n",
      "Epoch 4/150\n",
      "1199/1199 [==============================] - 6s 5ms/step - loss: 0.0052\n",
      "Epoch 5/150\n",
      "1199/1199 [==============================] - 5s 4ms/step - loss: 0.0058\n",
      "Epoch 6/150\n",
      "1199/1199 [==============================] - 5s 5ms/step - loss: 0.0052\n",
      "Epoch 7/150\n",
      "1199/1199 [==============================] - 5s 5ms/step - loss: 0.0046\n",
      "Epoch 8/150\n",
      "1199/1199 [==============================] - 6s 5ms/step - loss: 0.0048\n",
      "Epoch 9/150\n",
      "1199/1199 [==============================] - 6s 5ms/step - loss: 0.0045\n",
      "Epoch 10/150\n",
      "1199/1199 [==============================] - 6s 5ms/step - loss: 0.0048\n",
      "Epoch 11/150\n",
      "1199/1199 [==============================] - 6s 5ms/step - loss: 0.0050\n",
      "Epoch 12/150\n",
      "1199/1199 [==============================] - 6s 5ms/step - loss: 0.0042\n",
      "Epoch 13/150\n",
      "1199/1199 [==============================] - 7s 6ms/step - loss: 0.0043\n",
      "Epoch 14/150\n",
      "1199/1199 [==============================] - 7s 6ms/step - loss: 0.0044\n",
      "Epoch 15/150\n",
      "1199/1199 [==============================] - 7s 6ms/step - loss: 0.0040\n",
      "Epoch 16/150\n",
      "1199/1199 [==============================] - 6s 5ms/step - loss: 0.0040\n",
      "Epoch 17/150\n",
      "1199/1199 [==============================] - 6s 5ms/step - loss: 0.0036\n",
      "Epoch 18/150\n",
      "1199/1199 [==============================] - 6s 5ms/step - loss: 0.0042\n",
      "Epoch 19/150\n",
      "1199/1199 [==============================] - 6s 5ms/step - loss: 0.0041\n",
      "Epoch 20/150\n",
      "1199/1199 [==============================] - 6s 5ms/step - loss: 0.0036\n",
      "Epoch 21/150\n",
      "1199/1199 [==============================] - 6s 5ms/step - loss: 0.0039\n",
      "Epoch 22/150\n",
      "1199/1199 [==============================] - 6s 5ms/step - loss: 0.0035\n",
      "Epoch 23/150\n",
      "1199/1199 [==============================] - 6s 5ms/step - loss: 0.0035\n",
      "Epoch 24/150\n",
      "1199/1199 [==============================] - 6s 5ms/step - loss: 0.0034\n",
      "Epoch 25/150\n",
      "1199/1199 [==============================] - 6s 5ms/step - loss: 0.0036\n",
      "Epoch 26/150\n",
      "1199/1199 [==============================] - 6s 5ms/step - loss: 0.0034\n",
      "Epoch 27/150\n",
      "1199/1199 [==============================] - 6s 5ms/step - loss: 0.0032\n",
      "Epoch 28/150\n",
      "1199/1199 [==============================] - 6s 5ms/step - loss: 0.0031\n",
      "Epoch 29/150\n",
      "1199/1199 [==============================] - 6s 5ms/step - loss: 0.0031\n",
      "Epoch 30/150\n",
      "1199/1199 [==============================] - 6s 5ms/step - loss: 0.0035\n",
      "Epoch 31/150\n",
      "1199/1199 [==============================] - 6s 5ms/step - loss: 0.0035\n",
      "Epoch 32/150\n",
      "1199/1199 [==============================] - 6s 5ms/step - loss: 0.0033\n",
      "Epoch 33/150\n",
      "1199/1199 [==============================] - 6s 5ms/step - loss: 0.0031\n",
      "Epoch 34/150\n",
      "1199/1199 [==============================] - 6s 5ms/step - loss: 0.0029\n",
      "Epoch 35/150\n",
      "1199/1199 [==============================] - 6s 5ms/step - loss: 0.0026\n",
      "Epoch 36/150\n",
      "1199/1199 [==============================] - 6s 5ms/step - loss: 0.0031\n",
      "Epoch 37/150\n",
      "1199/1199 [==============================] - 6s 5ms/step - loss: 0.0030\n",
      "Epoch 38/150\n",
      "1199/1199 [==============================] - 6s 5ms/step - loss: 0.0032\n",
      "Epoch 39/150\n",
      "1199/1199 [==============================] - 6s 5ms/step - loss: 0.0029\n",
      "Epoch 40/150\n",
      "1199/1199 [==============================] - 6s 5ms/step - loss: 0.0030\n",
      "Epoch 41/150\n",
      "1199/1199 [==============================] - 6s 5ms/step - loss: 0.0025\n",
      "Epoch 42/150\n",
      "1199/1199 [==============================] - 7s 6ms/step - loss: 0.0028\n",
      "Epoch 43/150\n",
      "1199/1199 [==============================] - 7s 6ms/step - loss: 0.0024\n",
      "Epoch 44/150\n",
      "1199/1199 [==============================] - 6s 5ms/step - loss: 0.0024\n",
      "Epoch 45/150\n",
      "1199/1199 [==============================] - 6s 5ms/step - loss: 0.0023\n",
      "Epoch 46/150\n",
      "1199/1199 [==============================] - 5s 5ms/step - loss: 0.0026\n",
      "Epoch 47/150\n",
      "1199/1199 [==============================] - 5s 5ms/step - loss: 0.0030\n",
      "Epoch 48/150\n",
      "1199/1199 [==============================] - 6s 5ms/step - loss: 0.0023\n",
      "Epoch 49/150\n",
      "1199/1199 [==============================] - 6s 5ms/step - loss: 0.0024\n",
      "Epoch 50/150\n",
      "1199/1199 [==============================] - 7s 6ms/step - loss: 0.0023\n",
      "Epoch 51/150\n",
      "1199/1199 [==============================] - 6s 5ms/step - loss: 0.0022\n",
      "Epoch 52/150\n",
      "1199/1199 [==============================] - 6s 5ms/step - loss: 0.0023\n",
      "Epoch 53/150\n",
      "1199/1199 [==============================] - 6s 5ms/step - loss: 0.0025\n",
      "Epoch 54/150\n",
      "1199/1199 [==============================] - 6s 5ms/step - loss: 0.0023\n",
      "Epoch 55/150\n",
      "1199/1199 [==============================] - 6s 5ms/step - loss: 0.0022\n",
      "Epoch 56/150\n",
      "1199/1199 [==============================] - 6s 5ms/step - loss: 0.0025\n",
      "Epoch 57/150\n",
      "1199/1199 [==============================] - 6s 5ms/step - loss: 0.0025\n",
      "Epoch 58/150\n",
      "1199/1199 [==============================] - 7s 6ms/step - loss: 0.0027\n",
      "Epoch 59/150\n",
      "1199/1199 [==============================] - 7s 6ms/step - loss: 0.0024A: 4s - l - ETA: 2s - loss: 0. - ETA: 2s - \n",
      "Epoch 60/150\n",
      "1199/1199 [==============================] - 6s 5ms/step - loss: 0.0023\n",
      "Epoch 61/150\n",
      "1199/1199 [==============================] - 6s 5ms/step - loss: 0.0021\n",
      "Epoch 62/150\n",
      "1199/1199 [==============================] - 7s 6ms/step - loss: 0.0021\n",
      "Epoch 63/150\n",
      "1199/1199 [==============================] - 7s 6ms/step - loss: 0.0019A: 5s - los\n",
      "Epoch 64/150\n",
      "1199/1199 [==============================] - 7s 6ms/step - loss: 0.0022A:\n",
      "Epoch 65/150\n",
      "1199/1199 [==============================] - 7s 6ms/step - loss: 0.0020\n",
      "Epoch 66/150\n",
      "1199/1199 [==============================] - 7s 6ms/step - loss: 0.0022\n",
      "Epoch 67/150\n",
      "1199/1199 [==============================] - 7s 5ms/step - loss: 0.0018\n",
      "Epoch 68/150\n",
      "1199/1199 [==============================] - 7s 6ms/step - loss: 0.0019\n",
      "Epoch 69/150\n",
      "1199/1199 [==============================] - 7s 5ms/step - loss: 0.0021\n",
      "Epoch 70/150\n",
      "1199/1199 [==============================] - 7s 5ms/step - loss: 0.0020\n",
      "Epoch 71/150\n",
      "1199/1199 [==============================] - 7s 6ms/step - loss: 0.0019A: 5s - loss: 0.\n",
      "Epoch 72/150\n",
      "1199/1199 [==============================] - 7s 6ms/step - loss: 0.0019\n",
      "Epoch 73/150\n",
      "1199/1199 [==============================] - 6s 5ms/step - loss: 0.0018\n",
      "Epoch 74/150\n",
      "1199/1199 [==============================] - 6s 5ms/step - loss: 0.0020\n",
      "Epoch 75/150\n",
      "1199/1199 [==============================] - 7s 6ms/step - loss: 0.0015\n",
      "Epoch 76/150\n",
      "1199/1199 [==============================] - 7s 6ms/step - loss: 0.0017\n",
      "Epoch 77/150\n",
      "1199/1199 [==============================] - 7s 6ms/step - loss: 0.0017\n",
      "Epoch 78/150\n",
      "1199/1199 [==============================] - 6s 5ms/step - loss: 0.0019\n",
      "Epoch 79/150\n",
      "1199/1199 [==============================] - 6s 5ms/step - loss: 0.0017\n",
      "Epoch 80/150\n",
      "1199/1199 [==============================] - 7s 6ms/step - loss: 0.0018\n",
      "Epoch 81/150\n",
      "1199/1199 [==============================] - 7s 6ms/step - loss: 0.0018\n",
      "Epoch 82/150\n",
      "1199/1199 [==============================] - 7s 5ms/step - loss: 0.0017\n",
      "Epoch 83/150\n",
      "1199/1199 [==============================] - 7s 6ms/step - loss: 0.0016\n",
      "Epoch 84/150\n",
      "1199/1199 [==============================] - 7s 6ms/step - loss: 0.0015\n",
      "Epoch 85/150\n",
      "1199/1199 [==============================] - 7s 5ms/step - loss: 0.0015\n",
      "Epoch 86/150\n",
      "1199/1199 [==============================] - 7s 6ms/step - loss: 0.0016\n",
      "Epoch 87/150\n",
      "1199/1199 [==============================] - 6s 5ms/step - loss: 0.0018\n",
      "Epoch 88/150\n",
      "1199/1199 [==============================] - 6s 5ms/step - loss: 0.0016\n",
      "Epoch 89/150\n",
      "1199/1199 [==============================] - 6s 5ms/step - loss: 0.0014\n",
      "Epoch 90/150\n",
      "1199/1199 [==============================] - 5s 5ms/step - loss: 0.0014\n",
      "Epoch 91/150\n",
      "1199/1199 [==============================] - 6s 5ms/step - loss: 0.0016\n",
      "Epoch 92/150\n",
      "1199/1199 [==============================] - 6s 5ms/step - loss: 0.0016\n",
      "Epoch 93/150\n",
      "1199/1199 [==============================] - 6s 5ms/step - loss: 0.0016\n",
      "Epoch 94/150\n",
      "1199/1199 [==============================] - 6s 5ms/step - loss: 0.0014\n",
      "Epoch 95/150\n",
      "1199/1199 [==============================] - 6s 5ms/step - loss: 0.0014\n",
      "Epoch 96/150\n"
     ]
    },
    {
     "name": "stdout",
     "output_type": "stream",
     "text": [
      "1199/1199 [==============================] - 7s 5ms/step - loss: 0.0016\n",
      "Epoch 97/150\n",
      "1199/1199 [==============================] - 6s 5ms/step - loss: 0.0014\n",
      "Epoch 98/150\n",
      "1199/1199 [==============================] - 6s 5ms/step - loss: 0.0016\n",
      "Epoch 99/150\n",
      "1199/1199 [==============================] - 6s 5ms/step - loss: 0.0016\n",
      "Epoch 100/150\n",
      "1199/1199 [==============================] - 6s 5ms/step - loss: 0.0013\n",
      "Epoch 101/150\n",
      "1199/1199 [==============================] - 5s 5ms/step - loss: 0.0014\n",
      "Epoch 102/150\n",
      "1199/1199 [==============================] - 5s 5ms/step - loss: 0.0014\n",
      "Epoch 103/150\n",
      "1199/1199 [==============================] - 6s 5ms/step - loss: 0.0013\n",
      "Epoch 104/150\n",
      "1199/1199 [==============================] - 6s 5ms/step - loss: 0.0014\n",
      "Epoch 105/150\n",
      "1199/1199 [==============================] - 6s 5ms/step - loss: 0.0013\n",
      "Epoch 106/150\n",
      "1199/1199 [==============================] - 6s 5ms/step - loss: 0.0014\n",
      "Epoch 107/150\n",
      "1199/1199 [==============================] - 6s 5ms/step - loss: 0.0013\n",
      "Epoch 108/150\n",
      "1199/1199 [==============================] - 6s 5ms/step - loss: 0.0014\n",
      "Epoch 109/150\n",
      "1199/1199 [==============================] - 5s 5ms/step - loss: 0.0013\n",
      "Epoch 110/150\n",
      "1199/1199 [==============================] - 6s 5ms/step - loss: 0.0015\n",
      "Epoch 111/150\n",
      "1199/1199 [==============================] - 6s 5ms/step - loss: 0.0013\n",
      "Epoch 112/150\n",
      "1199/1199 [==============================] - 6s 5ms/step - loss: 0.0012\n",
      "Epoch 113/150\n",
      "1199/1199 [==============================] - 6s 5ms/step - loss: 0.0014\n",
      "Epoch 114/150\n",
      "1199/1199 [==============================] - 6s 5ms/step - loss: 0.0012\n",
      "Epoch 115/150\n",
      "1199/1199 [==============================] - 6s 5ms/step - loss: 0.0012\n",
      "Epoch 116/150\n",
      "1199/1199 [==============================] - 6s 5ms/step - loss: 0.0013\n",
      "Epoch 117/150\n",
      "1199/1199 [==============================] - 6s 5ms/step - loss: 0.0015\n",
      "Epoch 118/150\n",
      "1199/1199 [==============================] - 6s 5ms/step - loss: 0.0013\n",
      "Epoch 119/150\n",
      "1199/1199 [==============================] - 6s 5ms/step - loss: 0.0011\n",
      "Epoch 120/150\n",
      "1199/1199 [==============================] - 6s 5ms/step - loss: 0.0012\n",
      "Epoch 121/150\n",
      "1199/1199 [==============================] - 6s 5ms/step - loss: 0.0013\n",
      "Epoch 122/150\n",
      "1199/1199 [==============================] - 6s 5ms/step - loss: 0.0012\n",
      "Epoch 123/150\n",
      "1199/1199 [==============================] - 6s 5ms/step - loss: 0.0013\n",
      "Epoch 124/150\n",
      "1199/1199 [==============================] - 6s 5ms/step - loss: 0.0014\n",
      "Epoch 125/150\n",
      "1199/1199 [==============================] - 6s 5ms/step - loss: 0.0013\n",
      "Epoch 126/150\n",
      "1199/1199 [==============================] - 6s 5ms/step - loss: 0.0011\n",
      "Epoch 127/150\n",
      "1199/1199 [==============================] - 6s 5ms/step - loss: 0.0012\n",
      "Epoch 128/150\n",
      "1199/1199 [==============================] - 6s 5ms/step - loss: 0.0013\n",
      "Epoch 129/150\n",
      "1199/1199 [==============================] - 6s 5ms/step - loss: 0.0014\n",
      "Epoch 130/150\n",
      "1199/1199 [==============================] - 6s 5ms/step - loss: 0.0011\n",
      "Epoch 131/150\n",
      "1199/1199 [==============================] - 6s 5ms/step - loss: 0.0011\n",
      "Epoch 132/150\n",
      "1199/1199 [==============================] - 6s 5ms/step - loss: 0.0012\n",
      "Epoch 133/150\n",
      "1199/1199 [==============================] - 6s 5ms/step - loss: 0.0012\n",
      "Epoch 134/150\n",
      "1199/1199 [==============================] - 6s 5ms/step - loss: 0.0011\n",
      "Epoch 135/150\n",
      "1199/1199 [==============================] - 6s 5ms/step - loss: 0.0012\n",
      "Epoch 136/150\n",
      "1199/1199 [==============================] - 6s 5ms/step - loss: 0.0011\n",
      "Epoch 137/150\n",
      "1199/1199 [==============================] - 6s 5ms/step - loss: 0.0011\n",
      "Epoch 138/150\n",
      "1199/1199 [==============================] - 6s 5ms/step - loss: 0.0012\n",
      "Epoch 139/150\n",
      "1199/1199 [==============================] - 6s 5ms/step - loss: 0.0012\n",
      "Epoch 140/150\n",
      "1199/1199 [==============================] - 6s 5ms/step - loss: 0.0014\n",
      "Epoch 141/150\n",
      "1199/1199 [==============================] - 6s 5ms/step - loss: 0.0012\n",
      "Epoch 142/150\n",
      "1199/1199 [==============================] - 6s 5ms/step - loss: 0.0011\n",
      "Epoch 143/150\n",
      "1199/1199 [==============================] - 6s 5ms/step - loss: 0.0011\n",
      "Epoch 144/150\n",
      "1199/1199 [==============================] - 6s 5ms/step - loss: 0.0011\n",
      "Epoch 145/150\n",
      "1199/1199 [==============================] - 6s 5ms/step - loss: 9.9595e-04\n",
      "Epoch 146/150\n",
      "1199/1199 [==============================] - 6s 5ms/step - loss: 0.0011\n",
      "Epoch 147/150\n",
      "1199/1199 [==============================] - 6s 5ms/step - loss: 0.0010\n",
      "Epoch 148/150\n",
      "1199/1199 [==============================] - 6s 5ms/step - loss: 0.0011\n",
      "Epoch 149/150\n",
      "1199/1199 [==============================] - 6s 5ms/step - loss: 0.0010A: 0s - loss: 0.\n",
      "Epoch 150/150\n",
      "1199/1199 [==============================] - 6s 5ms/step - loss: 0.0012\n"
     ]
    },
    {
     "data": {
      "text/plain": [
       "<keras.callbacks.callbacks.History at 0x283d91fd848>"
      ]
     },
     "execution_count": 18,
     "metadata": {},
     "output_type": "execute_result"
    }
   ],
   "source": [
    "regressor.fit(x_train, y_train, batch_size= 32, epochs = 150)"
   ]
  },
  {
   "cell_type": "code",
   "execution_count": 19,
   "metadata": {},
   "outputs": [],
   "source": [
    "# saving trained model to disk\n",
    "\n",
    "# serialize model to json\n",
    "model_json = regressor.to_json()\n",
    "with open(\"lstm_model.json\", \"w\") as json_file:\n",
    "    json_file.write(model_json)\n",
    "    \n",
    "# to save weights to hdf5 file\n",
    "regressor.save_weights(\"lstm_weights.h5\")"
   ]
  },
  {
   "cell_type": "code",
   "execution_count": 20,
   "metadata": {},
   "outputs": [],
   "source": [
    "# to load pretrained model from disk\n",
    "from keras.models import model_from_json\n",
    "\n",
    "#loading json and creating model\n",
    "json_file = open(\"lstm_model.json\", \"r\")\n",
    "loaded_model_json = json_file.read()\n",
    "json_file.close()\n",
    "\n",
    "# to create our model\n",
    "loaded_regressor_model = model_from_json(loaded_model_json)\n",
    "# to load weights\n",
    "loaded_regressor_model.load_weights(\"lstm_weights.h5\")"
   ]
  },
  {
   "cell_type": "markdown",
   "metadata": {},
   "source": [
    "# Predictions from our model"
   ]
  },
  {
   "cell_type": "code",
   "execution_count": 21,
   "metadata": {},
   "outputs": [
    {
     "data": {
      "text/html": [
       "<div>\n",
       "<style scoped>\n",
       "    .dataframe tbody tr th:only-of-type {\n",
       "        vertical-align: middle;\n",
       "    }\n",
       "\n",
       "    .dataframe tbody tr th {\n",
       "        vertical-align: top;\n",
       "    }\n",
       "\n",
       "    .dataframe thead th {\n",
       "        text-align: right;\n",
       "    }\n",
       "</style>\n",
       "<table border=\"1\" class=\"dataframe\">\n",
       "  <thead>\n",
       "    <tr style=\"text-align: right;\">\n",
       "      <th></th>\n",
       "      <th>Date</th>\n",
       "      <th>Open</th>\n",
       "      <th>High</th>\n",
       "      <th>Low</th>\n",
       "      <th>Close</th>\n",
       "      <th>Adj Close</th>\n",
       "      <th>Volume</th>\n",
       "    </tr>\n",
       "  </thead>\n",
       "  <tbody>\n",
       "    <tr>\n",
       "      <td>0</td>\n",
       "      <td>2014-12-01</td>\n",
       "      <td>537.424500</td>\n",
       "      <td>539.927612</td>\n",
       "      <td>530.403748</td>\n",
       "      <td>532.338440</td>\n",
       "      <td>532.338440</td>\n",
       "      <td>2115300</td>\n",
       "    </tr>\n",
       "    <tr>\n",
       "      <td>1</td>\n",
       "      <td>2014-12-02</td>\n",
       "      <td>532.049255</td>\n",
       "      <td>534.033813</td>\n",
       "      <td>528.349426</td>\n",
       "      <td>532.288574</td>\n",
       "      <td>532.288574</td>\n",
       "      <td>1526600</td>\n",
       "    </tr>\n",
       "    <tr>\n",
       "      <td>2</td>\n",
       "      <td>2014-12-03</td>\n",
       "      <td>529.984924</td>\n",
       "      <td>534.528442</td>\n",
       "      <td>527.810913</td>\n",
       "      <td>529.865234</td>\n",
       "      <td>529.865234</td>\n",
       "      <td>1277900</td>\n",
       "    </tr>\n",
       "    <tr>\n",
       "      <td>3</td>\n",
       "      <td>2014-12-04</td>\n",
       "      <td>529.705688</td>\n",
       "      <td>535.868774</td>\n",
       "      <td>527.142700</td>\n",
       "      <td>535.838867</td>\n",
       "      <td>535.838867</td>\n",
       "      <td>1392100</td>\n",
       "    </tr>\n",
       "    <tr>\n",
       "      <td>4</td>\n",
       "      <td>2014-12-05</td>\n",
       "      <td>529.546143</td>\n",
       "      <td>531.430969</td>\n",
       "      <td>522.844543</td>\n",
       "      <td>523.821838</td>\n",
       "      <td>523.821838</td>\n",
       "      <td>2565600</td>\n",
       "    </tr>\n",
       "  </tbody>\n",
       "</table>\n",
       "</div>"
      ],
      "text/plain": [
       "         Date        Open        High         Low       Close   Adj Close  \\\n",
       "0  2014-12-01  537.424500  539.927612  530.403748  532.338440  532.338440   \n",
       "1  2014-12-02  532.049255  534.033813  528.349426  532.288574  532.288574   \n",
       "2  2014-12-03  529.984924  534.528442  527.810913  529.865234  529.865234   \n",
       "3  2014-12-04  529.705688  535.868774  527.142700  535.838867  535.838867   \n",
       "4  2014-12-05  529.546143  531.430969  522.844543  523.821838  523.821838   \n",
       "\n",
       "    Volume  \n",
       "0  2115300  \n",
       "1  1526600  \n",
       "2  1277900  \n",
       "3  1392100  \n",
       "4  2565600  "
      ]
     },
     "execution_count": 21,
     "metadata": {},
     "output_type": "execute_result"
    }
   ],
   "source": [
    "train = pd.read_csv(\"1_dec_2014 to 30_nov_2019.csv\")\n",
    "train.head()"
   ]
  },
  {
   "cell_type": "code",
   "execution_count": 22,
   "metadata": {},
   "outputs": [
    {
     "data": {
      "text/plain": [
       "(1259, 1)"
      ]
     },
     "execution_count": 22,
     "metadata": {},
     "output_type": "execute_result"
    }
   ],
   "source": [
    "train_data = train.iloc[:,1:2].values\n",
    "train_data.shape"
   ]
  },
  {
   "cell_type": "code",
   "execution_count": 23,
   "metadata": {},
   "outputs": [
    {
     "data": {
      "text/html": [
       "<div>\n",
       "<style scoped>\n",
       "    .dataframe tbody tr th:only-of-type {\n",
       "        vertical-align: middle;\n",
       "    }\n",
       "\n",
       "    .dataframe tbody tr th {\n",
       "        vertical-align: top;\n",
       "    }\n",
       "\n",
       "    .dataframe thead th {\n",
       "        text-align: right;\n",
       "    }\n",
       "</style>\n",
       "<table border=\"1\" class=\"dataframe\">\n",
       "  <thead>\n",
       "    <tr style=\"text-align: right;\">\n",
       "      <th></th>\n",
       "      <th>Date</th>\n",
       "      <th>Open</th>\n",
       "      <th>High</th>\n",
       "      <th>Low</th>\n",
       "      <th>Close</th>\n",
       "      <th>Adj Close</th>\n",
       "      <th>Volume</th>\n",
       "    </tr>\n",
       "  </thead>\n",
       "  <tbody>\n",
       "    <tr>\n",
       "      <td>0</td>\n",
       "      <td>2019-12-02</td>\n",
       "      <td>1301.000000</td>\n",
       "      <td>1305.829956</td>\n",
       "      <td>1281.000000</td>\n",
       "      <td>1289.920044</td>\n",
       "      <td>1289.920044</td>\n",
       "      <td>1510900</td>\n",
       "    </tr>\n",
       "    <tr>\n",
       "      <td>1</td>\n",
       "      <td>2019-12-03</td>\n",
       "      <td>1279.569946</td>\n",
       "      <td>1298.461060</td>\n",
       "      <td>1279.000000</td>\n",
       "      <td>1295.280029</td>\n",
       "      <td>1295.280029</td>\n",
       "      <td>1143800</td>\n",
       "    </tr>\n",
       "    <tr>\n",
       "      <td>2</td>\n",
       "      <td>2019-12-04</td>\n",
       "      <td>1307.010010</td>\n",
       "      <td>1325.800049</td>\n",
       "      <td>1304.869995</td>\n",
       "      <td>1320.540039</td>\n",
       "      <td>1320.540039</td>\n",
       "      <td>1537500</td>\n",
       "    </tr>\n",
       "    <tr>\n",
       "      <td>3</td>\n",
       "      <td>2019-12-05</td>\n",
       "      <td>1328.000000</td>\n",
       "      <td>1329.358032</td>\n",
       "      <td>1316.439941</td>\n",
       "      <td>1328.130005</td>\n",
       "      <td>1328.130005</td>\n",
       "      <td>1212700</td>\n",
       "    </tr>\n",
       "    <tr>\n",
       "      <td>4</td>\n",
       "      <td>2019-12-06</td>\n",
       "      <td>1333.439941</td>\n",
       "      <td>1344.000000</td>\n",
       "      <td>1333.439941</td>\n",
       "      <td>1340.619995</td>\n",
       "      <td>1340.619995</td>\n",
       "      <td>1314800</td>\n",
       "    </tr>\n",
       "  </tbody>\n",
       "</table>\n",
       "</div>"
      ],
      "text/plain": [
       "         Date         Open         High          Low        Close  \\\n",
       "0  2019-12-02  1301.000000  1305.829956  1281.000000  1289.920044   \n",
       "1  2019-12-03  1279.569946  1298.461060  1279.000000  1295.280029   \n",
       "2  2019-12-04  1307.010010  1325.800049  1304.869995  1320.540039   \n",
       "3  2019-12-05  1328.000000  1329.358032  1316.439941  1328.130005   \n",
       "4  2019-12-06  1333.439941  1344.000000  1333.439941  1340.619995   \n",
       "\n",
       "     Adj Close   Volume  \n",
       "0  1289.920044  1510900  \n",
       "1  1295.280029  1143800  \n",
       "2  1320.540039  1537500  \n",
       "3  1328.130005  1212700  \n",
       "4  1340.619995  1314800  "
      ]
     },
     "execution_count": 23,
     "metadata": {},
     "output_type": "execute_result"
    }
   ],
   "source": [
    "test = pd.read_csv(\"1_dec_2019 to 31_dec_2019.csv\")\n",
    "test.head()"
   ]
  },
  {
   "cell_type": "code",
   "execution_count": 24,
   "metadata": {},
   "outputs": [
    {
     "data": {
      "text/plain": [
       "(20, 1)"
      ]
     },
     "execution_count": 24,
     "metadata": {},
     "output_type": "execute_result"
    }
   ],
   "source": [
    "test_data = test.iloc[:,1:2].values\n",
    "test_data.shape"
   ]
  },
  {
   "cell_type": "code",
   "execution_count": 25,
   "metadata": {},
   "outputs": [],
   "source": [
    "total_data = pd.concat((train[\"Open\"], test[\"Open\"]),axis = 0)"
   ]
  },
  {
   "cell_type": "code",
   "execution_count": 26,
   "metadata": {},
   "outputs": [
    {
     "data": {
      "text/plain": [
       "pandas.core.series.Series"
      ]
     },
     "execution_count": 26,
     "metadata": {},
     "output_type": "execute_result"
    }
   ],
   "source": [
    "type(total_data)"
   ]
  },
  {
   "cell_type": "code",
   "execution_count": 27,
   "metadata": {},
   "outputs": [],
   "source": [
    "inputs = total_data[len(train)-60:].values"
   ]
  },
  {
   "cell_type": "code",
   "execution_count": 28,
   "metadata": {},
   "outputs": [
    {
     "data": {
      "text/plain": [
       "(80,)"
      ]
     },
     "execution_count": 28,
     "metadata": {},
     "output_type": "execute_result"
    }
   ],
   "source": [
    "inputs.shape"
   ]
  },
  {
   "cell_type": "code",
   "execution_count": 29,
   "metadata": {},
   "outputs": [],
   "source": [
    "inputs = inputs.reshape(-1,1)\n",
    "inputs = scaler.transform(inputs)"
   ]
  },
  {
   "cell_type": "code",
   "execution_count": 30,
   "metadata": {},
   "outputs": [
    {
     "data": {
      "text/plain": [
       "(80, 1)"
      ]
     },
     "execution_count": 30,
     "metadata": {},
     "output_type": "execute_result"
    }
   ],
   "source": [
    "inputs.shape"
   ]
  },
  {
   "cell_type": "code",
   "execution_count": 31,
   "metadata": {},
   "outputs": [],
   "source": [
    "x_test = []\n",
    "for i in range(60, len(inputs)):\n",
    "    x_test.append(inputs[i-60:i,0])\n",
    "x_test = np.array(x_test)"
   ]
  },
  {
   "cell_type": "code",
   "execution_count": 32,
   "metadata": {},
   "outputs": [
    {
     "data": {
      "text/plain": [
       "(20, 60)"
      ]
     },
     "execution_count": 32,
     "metadata": {},
     "output_type": "execute_result"
    }
   ],
   "source": [
    "x_test.shape"
   ]
  },
  {
   "cell_type": "code",
   "execution_count": 33,
   "metadata": {},
   "outputs": [],
   "source": [
    "x_test = np.reshape(x_test,(x_test.shape[0],x_test.shape[1],1))"
   ]
  },
  {
   "cell_type": "code",
   "execution_count": 34,
   "metadata": {},
   "outputs": [
    {
     "data": {
      "text/plain": [
       "(20, 60, 1)"
      ]
     },
     "execution_count": 34,
     "metadata": {},
     "output_type": "execute_result"
    }
   ],
   "source": [
    "x_test.shape"
   ]
  },
  {
   "cell_type": "code",
   "execution_count": 35,
   "metadata": {},
   "outputs": [],
   "source": [
    "predicted_price = loaded_regressor_model.predict(x_test)"
   ]
  },
  {
   "cell_type": "code",
   "execution_count": 36,
   "metadata": {},
   "outputs": [],
   "source": [
    "predicted_stock_price = scaler.inverse_transform(predicted_price)\n"
   ]
  },
  {
   "cell_type": "code",
   "execution_count": 37,
   "metadata": {},
   "outputs": [
    {
     "data": {
      "image/png": "[encoded data removed]",
      "text/plain": [
       "<Figure size 720x576 with 1 Axes>"
      ]
     },
     "metadata": {
      "needs_background": "light"
     },
     "output_type": "display_data"
    }
   ],
   "source": [
    "plt.figure(figsize=(10,8))\n",
    "plt.plot(test_data, color = 'red', label = 'Real Google Stock Price')\n",
    "plt.plot(predicted_stock_price, color = 'blue', label = 'Predicted Google Stock Price')\n",
    "plt.title('Google Stock Price Prediction')\n",
    "plt.xlabel('Time')\n",
    "plt.ylabel('Price')\n",
    "plt.legend()\n",
    "plt.show()\n"
   ]
  },
  {
   "cell_type": "code",
   "execution_count": null,
   "metadata": {},
   "outputs": [],
   "source": []
  }
 ],
 "metadata": {
  "kernelspec": {
   "display_name": "Python 3",
   "language": "python",
   "name": "python3"
  },
  "language_info": {
   "codemirror_mode": {
    "name": "ipython",
    "version": 3
   },
   "file_extension": ".py",
   "mimetype": "text/x-python",
   "name": "python",
   "nbconvert_exporter": "python",
   "pygments_lexer": "ipython3",
   "version": "3.7.4"
  }
 },
 "nbformat": 4,
 "nbformat_minor": 2
}
